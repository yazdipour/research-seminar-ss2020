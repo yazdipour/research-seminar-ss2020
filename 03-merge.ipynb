{
 "cells": [
  {
   "cell_type": "code",
   "execution_count": 52,
   "metadata": {},
   "outputs": [],
   "source": [
    "import pandas as pd\n",
    "import dask\n",
    "import dask.dataframe as dd"
   ]
  },
  {
   "cell_type": "code",
   "execution_count": 53,
   "metadata": {},
   "outputs": [
    {
     "name": "stdout",
     "output_type": "stream",
     "text": [
      "total 360828\r\n",
      "drwxr-xr-x  7 shya6478  200      4096 Jun 28 20:04 .\r\n",
      "drwxrwxrwx  9 root     root      4096 Jun 26 16:56 ..\r\n",
      "drwxr-xr-x 14 shya6478  200    675840 Jun 25 09:28 filtered\r\n",
      "drwxr-xr-x  2 shya6478  200    389120 Jun 24 10:00 filtered-bkup\r\n",
      "drwxr-xr-x 14 shya6478  200    262144 Jun 28 19:22 fixed\r\n",
      "drwxr-xr-x  2 shya6478  200      4096 Jun 28 19:54 fixed-prep\r\n",
      "-rw-r--r--  1 shya6478  200  14974188 Jun 28 20:09 merged-replied.csv\r\n",
      "-rw-r--r--  1 shya6478  200 353163005 Jun 27 12:56 merged.csv\r\n",
      "drwxr-xr-x  2 shya6478  200      4096 Jun 26 14:19 prep\r\n"
     ]
    }
   ],
   "source": [
    "!ls /data/shya6478/ -la"
   ]
  },
  {
   "cell_type": "code",
   "execution_count": 56,
   "metadata": {
    "scrolled": true
   },
   "outputs": [],
   "source": [
    "dd.read_csv('/data/shya6478/prep/*.csv').to_csv('/data/shya6478/merged.csv', single_file = True)#.compute() "
   ]
  },
  {
   "cell_type": "code",
   "execution_count": null,
   "metadata": {
    "scrolled": true
   },
   "outputs": [],
   "source": [
    "# to merge2\n",
    "motherdf = None\n",
    "for i in range(12):\n",
    "    df = pd.read_csv(f'/data/shya6478/fixed-prep/data{i+1}.csv')\n",
    "    if motherdf is None: motherdf = df\n",
    "    else: motherdf = motherdf.append(df, ignore_index=True)"
   ]
  },
  {
   "cell_type": "code",
   "execution_count": null,
   "metadata": {
    "scrolled": false
   },
   "outputs": [],
   "source": [
    "motherdf"
   ]
  },
  {
   "cell_type": "code",
   "execution_count": null,
   "metadata": {},
   "outputs": [],
   "source": [
    "motherdf.to_csv('/data/shya6478/merged-replied.csv')"
   ]
  }
 ],
 "metadata": {
  "kernelspec": {
   "display_name": "Python 3",
   "language": "python",
   "name": "python3"
  },
  "language_info": {
   "codemirror_mode": {
    "name": "ipython",
    "version": 3
   },
   "file_extension": ".py",
   "mimetype": "text/x-python",
   "name": "python",
   "nbconvert_exporter": "python",
   "pygments_lexer": "ipython3",
   "version": "3.6.6"
  }
 },
 "nbformat": 4,
 "nbformat_minor": 2
}
